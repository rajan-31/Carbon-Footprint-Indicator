{
  "nbformat": 4,
  "nbformat_minor": 0,
  "metadata": {
    "colab": {
      "name": "CarbonEmissionPredictor.ipynb",
      "provenance": []
    },
    "kernelspec": {
      "name": "python3",
      "display_name": "Python 3"
    },
    "language_info": {
      "name": "python"
    }
  },
  "cells": [
    {
      "cell_type": "code",
      "metadata": {
        "id": "dQ0G6_od6Yrc"
      },
      "source": [
        "#Use to import the file into google Colab drive\n",
        "from google.colab import files\n",
        "\n",
        "#Use to import io, which opens the file from the Colab drive\n",
        "import io\n",
        "\n",
        "import pandas as pd\n",
        "import numpy as np\n",
        "import seaborn as sns\n",
        "from sklearn.model_selection import train_test_split\n",
        "from sklearn import metrics"
      ],
      "execution_count": 1,
      "outputs": []
    },
    {
      "cell_type": "code",
      "metadata": {
        "colab": {
          "resources": {
            "http://localhost:8080/nbextensions/google.colab/files.js": {
              "data": "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",
              "ok": true,
              "headers": [
                [
                  "content-type",
                  "application/javascript"
                ]
              ],
              "status": 200,
              "status_text": ""
            }
          },
          "base_uri": "https://localhost:8080/",
          "height": 73
        },
        "id": "LjhjL3JQ7Huf",
        "outputId": "243e643b-fa9e-4db6-d079-dcad6b79593e"
      },
      "source": [
        "# This will open a widget when run that will enable you to browse the files on your local storage drive.\n",
        "uploaded = files.upload()"
      ],
      "execution_count": 2,
      "outputs": [
        {
          "output_type": "display_data",
          "data": {
            "text/html": [
              "\n",
              "     <input type=\"file\" id=\"files-ff4f541f-4a42-4d53-bff2-21a4a0bce299\" name=\"files[]\" multiple disabled\n",
              "        style=\"border:none\" />\n",
              "     <output id=\"result-ff4f541f-4a42-4d53-bff2-21a4a0bce299\">\n",
              "      Upload widget is only available when the cell has been executed in the\n",
              "      current browser session. Please rerun this cell to enable.\n",
              "      </output>\n",
              "      <script src=\"/nbextensions/google.colab/files.js\"></script> "
            ],
            "text/plain": [
              "<IPython.core.display.HTML object>"
            ]
          },
          "metadata": {
            "tags": []
          }
        },
        {
          "output_type": "stream",
          "text": [
            "Saving CarbonEmissionData2.csv to CarbonEmissionData2.csv\n"
          ],
          "name": "stdout"
        }
      ]
    },
    {
      "cell_type": "code",
      "metadata": {
        "id": "tmSbBZ1g7L41",
        "colab": {
          "base_uri": "https://localhost:8080/",
          "height": 1000
        },
        "outputId": "a079d903-808c-4c8d-a668-420a81d37720"
      },
      "source": [
        "# Now use the below code to read the csv in pandas' dataframe\n",
        "df = pd.read_csv(io.StringIO(uploaded[list(uploaded.keys())[0]].decode('utf-8')))\n",
        "\n",
        "print(df.shape)\n",
        "# df = df.drop(12) # loc[:32]\n",
        "df"
      ],
      "execution_count": 3,
      "outputs": [
        {
          "output_type": "stream",
          "text": [
            "(32, 8)\n"
          ],
          "name": "stdout"
        },
        {
          "output_type": "execute_result",
          "data": {
            "text/html": [
              "<div>\n",
              "<style scoped>\n",
              "    .dataframe tbody tr th:only-of-type {\n",
              "        vertical-align: middle;\n",
              "    }\n",
              "\n",
              "    .dataframe tbody tr th {\n",
              "        vertical-align: top;\n",
              "    }\n",
              "\n",
              "    .dataframe thead th {\n",
              "        text-align: right;\n",
              "    }\n",
              "</style>\n",
              "<table border=\"1\" class=\"dataframe\">\n",
              "  <thead>\n",
              "    <tr style=\"text-align: right;\">\n",
              "      <th></th>\n",
              "      <th>Category</th>\n",
              "      <th>Brand</th>\n",
              "      <th>Model Name/No.</th>\n",
              "      <th>Screen Size (Inch)</th>\n",
              "      <th>Assembly Location</th>\n",
              "      <th>weight (kg)</th>\n",
              "      <th>Price (MRP)</th>\n",
              "      <th>Carbon emission (kg)</th>\n",
              "    </tr>\n",
              "  </thead>\n",
              "  <tbody>\n",
              "    <tr>\n",
              "      <th>0</th>\n",
              "      <td>Laptop</td>\n",
              "      <td>Dell</td>\n",
              "      <td>XPS 13 9360</td>\n",
              "      <td>13.3</td>\n",
              "      <td>China</td>\n",
              "      <td>1.230</td>\n",
              "      <td>110000.0</td>\n",
              "      <td>286.00</td>\n",
              "    </tr>\n",
              "    <tr>\n",
              "      <th>1</th>\n",
              "      <td>Laptop</td>\n",
              "      <td>Dell</td>\n",
              "      <td>XPS 15 9570</td>\n",
              "      <td>15.6</td>\n",
              "      <td>China</td>\n",
              "      <td>2.050</td>\n",
              "      <td>153603.0</td>\n",
              "      <td>324.00</td>\n",
              "    </tr>\n",
              "    <tr>\n",
              "      <th>2</th>\n",
              "      <td>Laptop</td>\n",
              "      <td>Dell</td>\n",
              "      <td>XPS 7390</td>\n",
              "      <td>13.3</td>\n",
              "      <td>China</td>\n",
              "      <td>1.290</td>\n",
              "      <td>120957.0</td>\n",
              "      <td>372.00</td>\n",
              "    </tr>\n",
              "    <tr>\n",
              "      <th>3</th>\n",
              "      <td>Laptop</td>\n",
              "      <td>Dell</td>\n",
              "      <td>XPS 9310</td>\n",
              "      <td>13.4</td>\n",
              "      <td>China</td>\n",
              "      <td>1.200</td>\n",
              "      <td>189990.0</td>\n",
              "      <td>322.00</td>\n",
              "    </tr>\n",
              "    <tr>\n",
              "      <th>4</th>\n",
              "      <td>Laptop</td>\n",
              "      <td>Dell</td>\n",
              "      <td>XPS 9370</td>\n",
              "      <td>13.3</td>\n",
              "      <td>China</td>\n",
              "      <td>1.210</td>\n",
              "      <td>110529.0</td>\n",
              "      <td>297.00</td>\n",
              "    </tr>\n",
              "    <tr>\n",
              "      <th>5</th>\n",
              "      <td>Laptop</td>\n",
              "      <td>Dell</td>\n",
              "      <td>XPS 9500</td>\n",
              "      <td>15.6</td>\n",
              "      <td>China</td>\n",
              "      <td>1.830</td>\n",
              "      <td>289000.0</td>\n",
              "      <td>380.00</td>\n",
              "    </tr>\n",
              "    <tr>\n",
              "      <th>6</th>\n",
              "      <td>Laptop</td>\n",
              "      <td>Dell</td>\n",
              "      <td>XPS 9310</td>\n",
              "      <td>13.4</td>\n",
              "      <td>China</td>\n",
              "      <td>1.200</td>\n",
              "      <td>189990.0</td>\n",
              "      <td>342.00</td>\n",
              "    </tr>\n",
              "    <tr>\n",
              "      <th>7</th>\n",
              "      <td>Laptop</td>\n",
              "      <td>Dell</td>\n",
              "      <td>XPS 9300</td>\n",
              "      <td>13.3</td>\n",
              "      <td>China</td>\n",
              "      <td>1.270</td>\n",
              "      <td>154446.0</td>\n",
              "      <td>327.00</td>\n",
              "    </tr>\n",
              "    <tr>\n",
              "      <th>8</th>\n",
              "      <td>Laptop</td>\n",
              "      <td>HP</td>\n",
              "      <td>Notebook PC 240 G7</td>\n",
              "      <td>14.0</td>\n",
              "      <td>China</td>\n",
              "      <td>1.520</td>\n",
              "      <td>77800.0</td>\n",
              "      <td>265.00</td>\n",
              "    </tr>\n",
              "    <tr>\n",
              "      <th>9</th>\n",
              "      <td>Laptop</td>\n",
              "      <td>HP</td>\n",
              "      <td>Notebook PC 245 G7</td>\n",
              "      <td>14.0</td>\n",
              "      <td>China</td>\n",
              "      <td>1.500</td>\n",
              "      <td>28000.0</td>\n",
              "      <td>275.00</td>\n",
              "    </tr>\n",
              "    <tr>\n",
              "      <th>10</th>\n",
              "      <td>Laptop</td>\n",
              "      <td>HP</td>\n",
              "      <td>Notebook PC 348 G7</td>\n",
              "      <td>14.0</td>\n",
              "      <td>China</td>\n",
              "      <td>1.500</td>\n",
              "      <td>73899.0</td>\n",
              "      <td>320.00</td>\n",
              "    </tr>\n",
              "    <tr>\n",
              "      <th>11</th>\n",
              "      <td>Laptop</td>\n",
              "      <td>HP</td>\n",
              "      <td>Pavilion x360 14 Convertible PC</td>\n",
              "      <td>14.0</td>\n",
              "      <td>China</td>\n",
              "      <td>1.580</td>\n",
              "      <td>76379.0</td>\n",
              "      <td>345.00</td>\n",
              "    </tr>\n",
              "    <tr>\n",
              "      <th>12</th>\n",
              "      <td>Laptop</td>\n",
              "      <td>HP</td>\n",
              "      <td>Pavilion x360 15 Convertible</td>\n",
              "      <td>15.6</td>\n",
              "      <td>China</td>\n",
              "      <td>1.920</td>\n",
              "      <td>76379.0</td>\n",
              "      <td>360.00</td>\n",
              "    </tr>\n",
              "    <tr>\n",
              "      <th>13</th>\n",
              "      <td>Laptop</td>\n",
              "      <td>HP</td>\n",
              "      <td>Pro c640 Chromebook</td>\n",
              "      <td>14.0</td>\n",
              "      <td>China</td>\n",
              "      <td>1.460</td>\n",
              "      <td>29899.0</td>\n",
              "      <td>310.00</td>\n",
              "    </tr>\n",
              "    <tr>\n",
              "      <th>14</th>\n",
              "      <td>Laptop</td>\n",
              "      <td>HP</td>\n",
              "      <td>Chromebook 11A G8 Education</td>\n",
              "      <td>11.6</td>\n",
              "      <td>China</td>\n",
              "      <td>0.454</td>\n",
              "      <td>41208.0</td>\n",
              "      <td>235.00</td>\n",
              "    </tr>\n",
              "    <tr>\n",
              "      <th>15</th>\n",
              "      <td>Laptop</td>\n",
              "      <td>HP</td>\n",
              "      <td>Spectre x360 13</td>\n",
              "      <td>13.3</td>\n",
              "      <td>China</td>\n",
              "      <td>1.290</td>\n",
              "      <td>152042.0</td>\n",
              "      <td>355.00</td>\n",
              "    </tr>\n",
              "    <tr>\n",
              "      <th>16</th>\n",
              "      <td>Laptop</td>\n",
              "      <td>HP</td>\n",
              "      <td>Spectre x360 15</td>\n",
              "      <td>15.0</td>\n",
              "      <td>China</td>\n",
              "      <td>2.300</td>\n",
              "      <td>220900.0</td>\n",
              "      <td>430.00</td>\n",
              "    </tr>\n",
              "    <tr>\n",
              "      <th>17</th>\n",
              "      <td>Laptop</td>\n",
              "      <td>HP</td>\n",
              "      <td>Probook 440 G8</td>\n",
              "      <td>14.0</td>\n",
              "      <td>China</td>\n",
              "      <td>2.200</td>\n",
              "      <td>151900.0</td>\n",
              "      <td>300.00</td>\n",
              "    </tr>\n",
              "    <tr>\n",
              "      <th>18</th>\n",
              "      <td>Laptop</td>\n",
              "      <td>HP</td>\n",
              "      <td>ProBook 450 G7</td>\n",
              "      <td>15.6</td>\n",
              "      <td>China</td>\n",
              "      <td>2.000</td>\n",
              "      <td>25591.0</td>\n",
              "      <td>345.00</td>\n",
              "    </tr>\n",
              "    <tr>\n",
              "      <th>19</th>\n",
              "      <td>Laptop</td>\n",
              "      <td>HP</td>\n",
              "      <td>Probook 640 G5</td>\n",
              "      <td>14.0</td>\n",
              "      <td>China</td>\n",
              "      <td>2.340</td>\n",
              "      <td>275075.0</td>\n",
              "      <td>250.00</td>\n",
              "    </tr>\n",
              "    <tr>\n",
              "      <th>20</th>\n",
              "      <td>Laptop</td>\n",
              "      <td>HP</td>\n",
              "      <td>Elitebook s360 830 G6</td>\n",
              "      <td>13.3</td>\n",
              "      <td>China</td>\n",
              "      <td>1.350</td>\n",
              "      <td>144363.0</td>\n",
              "      <td>292.00</td>\n",
              "    </tr>\n",
              "    <tr>\n",
              "      <th>21</th>\n",
              "      <td>Laptop</td>\n",
              "      <td>HP</td>\n",
              "      <td>EliteBook 1040 G4</td>\n",
              "      <td>14.0</td>\n",
              "      <td>China</td>\n",
              "      <td>2.360</td>\n",
              "      <td>221863.0</td>\n",
              "      <td>260.00</td>\n",
              "    </tr>\n",
              "    <tr>\n",
              "      <th>22</th>\n",
              "      <td>Laptop</td>\n",
              "      <td>HP</td>\n",
              "      <td>EliteBook 840 G6</td>\n",
              "      <td>14.0</td>\n",
              "      <td>China</td>\n",
              "      <td>1.500</td>\n",
              "      <td>161900.0</td>\n",
              "      <td>375.00</td>\n",
              "    </tr>\n",
              "    <tr>\n",
              "      <th>23</th>\n",
              "      <td>Laptop</td>\n",
              "      <td>Lenovo</td>\n",
              "      <td>ThinkPad E580</td>\n",
              "      <td>15.6</td>\n",
              "      <td>China</td>\n",
              "      <td>2.130</td>\n",
              "      <td>93697.0</td>\n",
              "      <td>421.00</td>\n",
              "    </tr>\n",
              "    <tr>\n",
              "      <th>24</th>\n",
              "      <td>Laptop</td>\n",
              "      <td>Lenovo</td>\n",
              "      <td>ThinkPad T480</td>\n",
              "      <td>14.0</td>\n",
              "      <td>China</td>\n",
              "      <td>1.580</td>\n",
              "      <td>140285.0</td>\n",
              "      <td>448.00</td>\n",
              "    </tr>\n",
              "    <tr>\n",
              "      <th>25</th>\n",
              "      <td>Laptop</td>\n",
              "      <td>Lenovo</td>\n",
              "      <td>ThinkPad T570/P51s</td>\n",
              "      <td>15.6</td>\n",
              "      <td>China</td>\n",
              "      <td>NaN</td>\n",
              "      <td>NaN</td>\n",
              "      <td>525.00</td>\n",
              "    </tr>\n",
              "    <tr>\n",
              "      <th>26</th>\n",
              "      <td>Laptop</td>\n",
              "      <td>Lenovo</td>\n",
              "      <td>ThinkPad X1 Nano</td>\n",
              "      <td>13.0</td>\n",
              "      <td>China</td>\n",
              "      <td>NaN</td>\n",
              "      <td>NaN</td>\n",
              "      <td>323.00</td>\n",
              "    </tr>\n",
              "    <tr>\n",
              "      <th>27</th>\n",
              "      <td>Laptop</td>\n",
              "      <td>Lenovo</td>\n",
              "      <td>ThinkPad X1 Yoga</td>\n",
              "      <td>14.0</td>\n",
              "      <td>China</td>\n",
              "      <td>NaN</td>\n",
              "      <td>NaN</td>\n",
              "      <td>457.00</td>\n",
              "    </tr>\n",
              "    <tr>\n",
              "      <th>28</th>\n",
              "      <td>Laptop</td>\n",
              "      <td>Lenovo</td>\n",
              "      <td>ThinkPad X1 Yoga 2nd Gen.</td>\n",
              "      <td>14.0</td>\n",
              "      <td>China</td>\n",
              "      <td>NaN</td>\n",
              "      <td>NaN</td>\n",
              "      <td>445.24</td>\n",
              "    </tr>\n",
              "    <tr>\n",
              "      <th>29</th>\n",
              "      <td>Laptop</td>\n",
              "      <td>Lenovo</td>\n",
              "      <td>ThinkPad X1 Yoga 3rd Gen.</td>\n",
              "      <td>14.0</td>\n",
              "      <td>China</td>\n",
              "      <td>NaN</td>\n",
              "      <td>NaN</td>\n",
              "      <td>386.00</td>\n",
              "    </tr>\n",
              "    <tr>\n",
              "      <th>30</th>\n",
              "      <td>Laptop</td>\n",
              "      <td>Lenovo</td>\n",
              "      <td>ThinkPad X1 Yoga 6th Gen.</td>\n",
              "      <td>14.0</td>\n",
              "      <td>China</td>\n",
              "      <td>NaN</td>\n",
              "      <td>NaN</td>\n",
              "      <td>520.00</td>\n",
              "    </tr>\n",
              "    <tr>\n",
              "      <th>31</th>\n",
              "      <td>Laptop</td>\n",
              "      <td>Lenovo</td>\n",
              "      <td>ThinkPad X1 Yoga LTE 4th Gen.</td>\n",
              "      <td>14.0</td>\n",
              "      <td>China</td>\n",
              "      <td>NaN</td>\n",
              "      <td>NaN</td>\n",
              "      <td>449.00</td>\n",
              "    </tr>\n",
              "  </tbody>\n",
              "</table>\n",
              "</div>"
            ],
            "text/plain": [
              "   Category   Brand  ... Price (MRP)  Carbon emission (kg)\n",
              "0    Laptop    Dell  ...    110000.0                286.00\n",
              "1    Laptop    Dell  ...    153603.0                324.00\n",
              "2    Laptop    Dell  ...    120957.0                372.00\n",
              "3    Laptop    Dell  ...    189990.0                322.00\n",
              "4    Laptop    Dell  ...    110529.0                297.00\n",
              "5    Laptop    Dell  ...    289000.0                380.00\n",
              "6    Laptop    Dell  ...    189990.0                342.00\n",
              "7    Laptop    Dell  ...    154446.0                327.00\n",
              "8    Laptop      HP  ...     77800.0                265.00\n",
              "9    Laptop      HP  ...     28000.0                275.00\n",
              "10   Laptop      HP  ...     73899.0                320.00\n",
              "11   Laptop      HP  ...     76379.0                345.00\n",
              "12   Laptop      HP  ...     76379.0                360.00\n",
              "13   Laptop      HP  ...     29899.0                310.00\n",
              "14   Laptop      HP  ...     41208.0                235.00\n",
              "15   Laptop      HP  ...    152042.0                355.00\n",
              "16   Laptop      HP  ...    220900.0                430.00\n",
              "17   Laptop      HP  ...    151900.0                300.00\n",
              "18   Laptop      HP  ...     25591.0                345.00\n",
              "19   Laptop      HP  ...    275075.0                250.00\n",
              "20   Laptop      HP  ...    144363.0                292.00\n",
              "21   Laptop      HP  ...    221863.0                260.00\n",
              "22   Laptop      HP  ...    161900.0                375.00\n",
              "23   Laptop  Lenovo  ...     93697.0                421.00\n",
              "24   Laptop  Lenovo  ...    140285.0                448.00\n",
              "25   Laptop  Lenovo  ...         NaN                525.00\n",
              "26   Laptop  Lenovo  ...         NaN                323.00\n",
              "27   Laptop  Lenovo  ...         NaN                457.00\n",
              "28   Laptop  Lenovo  ...         NaN                445.24\n",
              "29   Laptop  Lenovo  ...         NaN                386.00\n",
              "30   Laptop  Lenovo  ...         NaN                520.00\n",
              "31   Laptop  Lenovo  ...         NaN                449.00\n",
              "\n",
              "[32 rows x 8 columns]"
            ]
          },
          "metadata": {
            "tags": []
          },
          "execution_count": 3
        }
      ]
    },
    {
      "cell_type": "code",
      "metadata": {
        "colab": {
          "base_uri": "https://localhost:8080/",
          "height": 195
        },
        "id": "DCXIb4Qc-5dq",
        "outputId": "b4b6b52f-5590-4d08-cb1e-aa1b8f12499a"
      },
      "source": [
        "# -------------\n",
        "\n",
        "# # find unique Categories\n",
        "# categories = df['Category'].unique()\n",
        "\n",
        "# # assign each category a int value, to train the model\n",
        "# categories_map = {}\n",
        "# for i,x in enumerate(categories): categories_map[x]=i\n",
        "\n",
        "# # map each category with int value\n",
        "# df['Category'] = df['Category'].map(categories_map)\n",
        "\n",
        "# -------------\n",
        "\n",
        "def map_string_to_int(_series):\n",
        "  str_val = _series.unique()\n",
        "\n",
        "  str_val_map = {}\n",
        "  for i,x in enumerate(str_val): str_val_map[x]=i\n",
        "\n",
        "  return _series.map(str_val_map)\n",
        "\n",
        "df['Category'] = map_string_to_int(df['Category'])\n",
        "df['Brand'] = map_string_to_int(df['Brand'])\n",
        "df['Model Name/No.'] = map_string_to_int(df['Model Name/No.'])\n",
        "df['Assembly Location'] = map_string_to_int(df['Assembly Location'])\n",
        "\n",
        "df.head()"
      ],
      "execution_count": 4,
      "outputs": [
        {
          "output_type": "execute_result",
          "data": {
            "text/html": [
              "<div>\n",
              "<style scoped>\n",
              "    .dataframe tbody tr th:only-of-type {\n",
              "        vertical-align: middle;\n",
              "    }\n",
              "\n",
              "    .dataframe tbody tr th {\n",
              "        vertical-align: top;\n",
              "    }\n",
              "\n",
              "    .dataframe thead th {\n",
              "        text-align: right;\n",
              "    }\n",
              "</style>\n",
              "<table border=\"1\" class=\"dataframe\">\n",
              "  <thead>\n",
              "    <tr style=\"text-align: right;\">\n",
              "      <th></th>\n",
              "      <th>Category</th>\n",
              "      <th>Brand</th>\n",
              "      <th>Model Name/No.</th>\n",
              "      <th>Screen Size (Inch)</th>\n",
              "      <th>Assembly Location</th>\n",
              "      <th>weight (kg)</th>\n",
              "      <th>Price (MRP)</th>\n",
              "      <th>Carbon emission (kg)</th>\n",
              "    </tr>\n",
              "  </thead>\n",
              "  <tbody>\n",
              "    <tr>\n",
              "      <th>0</th>\n",
              "      <td>0</td>\n",
              "      <td>0</td>\n",
              "      <td>0</td>\n",
              "      <td>13.3</td>\n",
              "      <td>0</td>\n",
              "      <td>1.23</td>\n",
              "      <td>110000.0</td>\n",
              "      <td>286.0</td>\n",
              "    </tr>\n",
              "    <tr>\n",
              "      <th>1</th>\n",
              "      <td>0</td>\n",
              "      <td>0</td>\n",
              "      <td>1</td>\n",
              "      <td>15.6</td>\n",
              "      <td>0</td>\n",
              "      <td>2.05</td>\n",
              "      <td>153603.0</td>\n",
              "      <td>324.0</td>\n",
              "    </tr>\n",
              "    <tr>\n",
              "      <th>2</th>\n",
              "      <td>0</td>\n",
              "      <td>0</td>\n",
              "      <td>2</td>\n",
              "      <td>13.3</td>\n",
              "      <td>0</td>\n",
              "      <td>1.29</td>\n",
              "      <td>120957.0</td>\n",
              "      <td>372.0</td>\n",
              "    </tr>\n",
              "    <tr>\n",
              "      <th>3</th>\n",
              "      <td>0</td>\n",
              "      <td>0</td>\n",
              "      <td>3</td>\n",
              "      <td>13.4</td>\n",
              "      <td>0</td>\n",
              "      <td>1.20</td>\n",
              "      <td>189990.0</td>\n",
              "      <td>322.0</td>\n",
              "    </tr>\n",
              "    <tr>\n",
              "      <th>4</th>\n",
              "      <td>0</td>\n",
              "      <td>0</td>\n",
              "      <td>4</td>\n",
              "      <td>13.3</td>\n",
              "      <td>0</td>\n",
              "      <td>1.21</td>\n",
              "      <td>110529.0</td>\n",
              "      <td>297.0</td>\n",
              "    </tr>\n",
              "  </tbody>\n",
              "</table>\n",
              "</div>"
            ],
            "text/plain": [
              "   Category  Brand  ...  Price (MRP)  Carbon emission (kg)\n",
              "0         0      0  ...     110000.0                 286.0\n",
              "1         0      0  ...     153603.0                 324.0\n",
              "2         0      0  ...     120957.0                 372.0\n",
              "3         0      0  ...     189990.0                 322.0\n",
              "4         0      0  ...     110529.0                 297.0\n",
              "\n",
              "[5 rows x 8 columns]"
            ]
          },
          "metadata": {
            "tags": []
          },
          "execution_count": 4
        }
      ]
    },
    {
      "cell_type": "code",
      "metadata": {
        "colab": {
          "base_uri": "https://localhost:8080/",
          "height": 373
        },
        "id": "cD-97c1OeW_Y",
        "outputId": "690a5ed9-7e21-4878-9704-56b182e50074"
      },
      "source": [
        "sns.pairplot(df, x_vars=['Category','Brand','Screen Size (Inch)','Assembly Location','weight (kg)','Price (MRP)'], y_vars='Carbon emission (kg)', height=7, aspect=0.7, kind='reg', dropna=True)"
      ],
      "execution_count": 5,
      "outputs": [
        {
          "output_type": "execute_result",
          "data": {
            "text/plain": [
              "<seaborn.axisgrid.PairGrid at 0x7fc622e92710>"
            ]
          },
          "metadata": {
            "tags": []
          },
          "execution_count": 5
        },
        {
          "output_type": "display_data",
          "data": {
            "image/png": "[encoded data removed]",
            "text/plain": [
              "<Figure size 2116.8x504 with 6 Axes>"
            ]
          },
          "metadata": {
            "tags": [],
            "needs_background": "light"
          }
        }
      ]
    },
    {
      "cell_type": "code",
      "metadata": {
        "colab": {
          "base_uri": "https://localhost:8080/"
        },
        "id": "Ey1taxipAB9V",
        "outputId": "61eeec83-cf87-42ee-f1f5-ec3c591c69ea"
      },
      "source": [
        "X = df.drop('Carbon emission (kg)', axis=1)\n",
        "y = df['Carbon emission (kg)']\n",
        "\n",
        "X_train, X_test, y_train, y_test = train_test_split(X, y, test_size=0.33, random_state=42)\n",
        "\n",
        "values = {'weight (kg)': X_train['weight (kg)'].mean(), 'Price (MRP)': X_train['Price (MRP)'].mean()}\n",
        "X_train = X_train.loc[:].fillna(value=values)   # X_train.loc[:] => to make local copy, to avoid SettingWithCopyWarning\n",
        "\n",
        "values = {'weight (kg)': X_test['weight (kg)'].mean(), 'Price (MRP)': X_test['Price (MRP)'].mean()}\n",
        "X_test = X_test.loc[:].fillna(value=values)\n",
        "\n",
        "X_train.shape, X_test.shape"
      ],
      "execution_count": 6,
      "outputs": [
        {
          "output_type": "execute_result",
          "data": {
            "text/plain": [
              "((21, 7), (11, 7))"
            ]
          },
          "metadata": {
            "tags": []
          },
          "execution_count": 6
        }
      ]
    },
    {
      "cell_type": "code",
      "metadata": {
        "colab": {
          "base_uri": "https://localhost:8080/"
        },
        "id": "GLqdF7QMDiQz",
        "outputId": "012f524b-2dd2-47a3-edef-fb27989dd9fa"
      },
      "source": [
        "from sklearn.linear_model import LinearRegression\n",
        "\n",
        "model = LinearRegression()\n",
        "\n",
        "model.fit(X_train,y_train)\n",
        "\n",
        "predicted = model.predict(X_test)\n",
        "\n",
        "pd.DataFrame(data={'Actual': np.array(y_test), 'Pred': predicted})\n",
        "\n",
        "model.score(X_test, y_test)"
      ],
      "execution_count": 7,
      "outputs": [
        {
          "output_type": "execute_result",
          "data": {
            "text/plain": [
              "0.7188021365717976"
            ]
          },
          "metadata": {
            "tags": []
          },
          "execution_count": 7
        }
      ]
    },
    {
      "cell_type": "code",
      "metadata": {
        "colab": {
          "base_uri": "https://localhost:8080/"
        },
        "id": "3BFxIaGYNtmI",
        "outputId": "12ffa423-5e00-4cee-c014-380a8fa8de18"
      },
      "source": [
        "from sklearn.linear_model import Lasso\n",
        "\n",
        "model2 = Lasso(alpha=0.9)\n",
        "\n",
        "model2.fit(X_train,y_train)\n",
        "\n",
        "predicted2 = model2.predict(X_test)\n",
        "\n",
        "pd.DataFrame(data={'Actual': np.array(y_test), 'Pred': predicted2})\n",
        "\n",
        "model2.score(X_test, y_test)"
      ],
      "execution_count": 8,
      "outputs": [
        {
          "output_type": "execute_result",
          "data": {
            "text/plain": [
              "0.7170518933743026"
            ]
          },
          "metadata": {
            "tags": []
          },
          "execution_count": 8
        }
      ]
    },
    {
      "cell_type": "code",
      "metadata": {
        "colab": {
          "base_uri": "https://localhost:8080/"
        },
        "id": "YeGLtyi0WKE-",
        "outputId": "c46fe93b-3577-4b6a-e334-cab62ef26f2a"
      },
      "source": [
        "from sklearn.linear_model import BayesianRidge\n",
        "\n",
        "model3 = BayesianRidge()\n",
        "\n",
        "model3.fit(X_train,y_train)\n",
        "\n",
        "predicted3 = model3.predict(X_test)\n",
        "\n",
        "pd.DataFrame(data={'Actual': np.array(y_test), 'Pred': predicted3})\n",
        "\n",
        "model3.score(X_test, y_test)"
      ],
      "execution_count": 9,
      "outputs": [
        {
          "output_type": "execute_result",
          "data": {
            "text/plain": [
              "-0.03184983859075463"
            ]
          },
          "metadata": {
            "tags": []
          },
          "execution_count": 9
        }
      ]
    },
    {
      "cell_type": "code",
      "metadata": {
        "id": "SCQ0mgMuaG3D"
      },
      "source": [
        ""
      ],
      "execution_count": 9,
      "outputs": []
    }
  ]
}